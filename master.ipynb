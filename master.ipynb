{
 "cells": [
  {
   "cell_type": "markdown",
   "id": "bc80fae1",
   "metadata": {},
   "source": [
    "### import tools"
   ]
  },
  {
   "cell_type": "code",
   "execution_count": 1,
   "id": "d5d18932",
   "metadata": {},
   "outputs": [],
   "source": [
    "#from library import package\n",
    "import pandas as pd\n",
    "import numpy as np\n",
    "import copy\n",
    "import csv\n",
    "\n",
    "#from file import function\n",
    "from countrynamefix import countrynamefix\n",
    "from rcp_ssp import clean_rcpssp_co2\n",
    "from gas_coal import clean_gas_coal\n",
    "from tong import clean_tong\n",
    "from steel import process_steel\n",
    "from create_consid import mk_consid_commit\n",
    "from aggregation import aggregate\n",
    "from expectations import make_expectation_over_data\n",
    "from plotting import plot_data"
   ]
  },
  {
   "cell_type": "markdown",
   "id": "41cb6b8f",
   "metadata": {},
   "source": [
    "### data cleaning and aggregation"
   ]
  },
  {
   "cell_type": "code",
   "execution_count": 2,
   "id": "d330a447",
   "metadata": {
    "scrolled": false
   },
   "outputs": [
    {
     "name": "stdout",
     "output_type": "stream",
     "text": [
      "names without matches written to a csv\n",
      "manually corrected list of country names parsed\n",
      "initial data inputs written to files with corrected country names\n"
     ]
    }
   ],
   "source": [
    "## Matching country names across all data files\n",
    "tong_cntry_fix, scen_cntry_fix, coal_cntry_fix, gas_cntry_fix, steel_cntry_fix = countrynamefix()\n",
    "\n",
    "## Data cleaning\n",
    "scen_CO2_cntry = clean_rcpssp_co2()\n",
    "coal_panel, coalCO2_panel, gas_panel = clean_gas_coal(coal_cntry_fix, gas_cntry_fix)\n",
    "steel_panel = process_steel()\n",
    "tong_country_sector_CO2 = clean_tong(tong_cntry_fix)\n",
    "\n",
    "# format consid/commit emissions by type\n",
    "gas_consid, coal, steel_proposed, electricity_committed, otherindustry_proposed = mk_consid_commit()\n",
    "\n",
    "# get all the data, and fix formatting\n",
    "cntry_rgn_data = aggregate()\n",
    "cntry_rgn_data = cntry_rgn_data.drop(columns = ['Unnamed: 0'])\n",
    "drop_cntry = cntry_rgn_data.drop(columns = 'country')\n",
    "rgn_data = drop_cntry.groupby(by = ['SSP', 'RCP', 'region']).sum().reset_index()\n",
    "world_totals = rgn_data.drop(columns = 'region').groupby(by = ['SSP', 'RCP']).sum().reset_index()\n",
    "\n",
    "# aggregate the data by region and country respectively, forming 2 expectations\n",
    "expectation_rgn = make_expectation_over_data(cntry_rgn_data, 'region')\n",
    "expectation_cntry = make_expectation_over_data(cntry_rgn_data, 'country')\n",
    "expectation_world = make_expectation_over_data(cntry_rgn_data, ['SSP', 'RCP']).drop(columns = ['credence', 'posterior', 'p'])"
   ]
  },
  {
   "cell_type": "markdown",
   "id": "f6090da9",
   "metadata": {},
   "source": [
    "### plotting"
   ]
  },
  {
   "cell_type": "code",
   "execution_count": null,
   "id": "bf008086",
   "metadata": {},
   "outputs": [],
   "source": [
    "# create plots of emissions trajectories in each of the corresponding folders\n",
    "\n",
    "# # plot the raw country and region level data\n",
    "plot_data(rgn_data, 'raw', 'Planned, Committed, and Considered Emissions till 2100 ', 'data/plots/rgn_emissions_rcp_ssp_plots/')\n",
    "plot_data(cntry_rgn_data, 'raw', 'Planned, Committed, and Considered Emissions till 2100 ', 'data/plots/cntry_emissions_rcp_ssp_plots/')\n",
    "\n",
    "# plot the data aggregated over the entire world, still raw\n",
    "plot_data(world_totals, 'raw', 'Planned, Committed, and Considered Emissions till 2100 ', 'data/plots/world_ssp_rcp_emissions/')\n",
    "\n",
    "# plot the expectation across countries and regions, respectively\n",
    "plot_data(expectation_rgn, 'raw', 'Total Expectable, Committed, and Considered Emissions till 2100 ', 'data/plots/rgn_exp_plots/')\n",
    "plot_data(expectation_cntry, 'raw', 'Total Expectable, Committed, and Considered Emissions till 2100 ', 'data/plots/cntry_exp_plots/')"
   ]
  }
 ],
 "metadata": {
  "kernelspec": {
   "display_name": "Python 3 (ipykernel)",
   "language": "python",
   "name": "python3"
  },
  "language_info": {
   "codemirror_mode": {
    "name": "ipython",
    "version": 3
   },
   "file_extension": ".py",
   "mimetype": "text/x-python",
   "name": "python",
   "nbconvert_exporter": "python",
   "pygments_lexer": "ipython3",
   "version": "3.9.4"
  }
 },
 "nbformat": 4,
 "nbformat_minor": 5
}
