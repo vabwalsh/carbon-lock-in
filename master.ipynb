{
 "cells": [
  {
   "cell_type": "markdown",
   "id": "bc80fae1",
   "metadata": {},
   "source": [
    "### import tools"
   ]
  },
  {
   "cell_type": "code",
   "execution_count": 7,
   "id": "d5d18932",
   "metadata": {},
   "outputs": [],
   "source": [
    "#from library import package\n",
    "import pandas as pd\n",
    "import numpy as np\n",
    "import rpy2.robjects as ro\n",
    "\n",
    "#from file import function\n",
    "from countrynamefix import countrynamefix\n",
    "from rcp_ssp import clean_rcpssp_co2\n",
    "from gas_coal import clean_gas_coal\n",
    "from tong import clean_tong\n",
    "from steel import process_steel\n",
    "from aggregation import aggregate\n",
    "from expectations import make_expectation_over_data\n",
    "from plotting import plot_data"
   ]
  },
  {
   "cell_type": "markdown",
   "id": "41cb6b8f",
   "metadata": {},
   "source": [
    "### data cleaning and aggregation"
   ]
  },
  {
   "cell_type": "code",
   "execution_count": 8,
   "id": "d330a447",
   "metadata": {
    "scrolled": true
   },
   "outputs": [
    {
     "name": "stdout",
     "output_type": "stream",
     "text": [
      "names without matches written to a csv\n",
      "manually corrected list of country names parsed\n",
      "initial data inputs written to files with corrected country names\n"
     ]
    }
   ],
   "source": [
    "## Matching country names across all data files\n",
    "tong_cntry_fix, scen_cntry_fix, coal_cntry_fix, gas_cntry_fix, steel_cntry_fix = countrynamefix()\n",
    "\n",
    "## Data cleaning\n",
    "scen_CO2_cntry = clean_rcpssp_co2()\n",
    "coal_panel, coalCO2_panel, gas_panel = clean_gas_coal(coal_cntry_fix, gas_cntry_fix)\n",
    "steel_panel = process_steel()\n",
    "tong_country_sector_CO2 = clean_tong(tong_cntry_fix)\n",
    "\n",
    "# format consid/commit emissions by type\n",
    "r = ro.r\n",
    "r['source']('create_consid.R');\n",
    "mk_consid_commit = ro.globalenv['mk_consid_commit']\n",
    "\n",
    "# get all the data, and fix formatting\n",
    "cntry_rgn_data = aggregate()\n",
    "drop_cntry = cntry_rgn_data.drop(columns = ['country', 'Unnamed: 0'])\n",
    "rgn_data = drop_cntry.groupby(by = ['SSP', 'RCP', 'region']).sum().reset_index()\n",
    "world_totals = rgn_data.drop(columns = 'region').groupby(by = ['SSP', 'RCP']).sum().reset_index()\n",
    "\n",
    "# aggregate the data by region and country respectively, forming 2 expectations\n",
    "expectation_rgn = make_expectation_over_data(cntry_rgn_data, 'region')\n",
    "expectation_cntry = make_expectation_over_data(cntry_rgn_data, 'country')\n",
    "expectation_world = make_expectation_over_data(cntry_rgn_data, ['SSP', 'RCP']).drop(columns = ['credence', 'posterior', 'p', 'Unnamed: 0'])\n",
    "\n",
    "# create plots of emissions trajectories in each of the corresponding folders"
   ]
  },
  {
   "cell_type": "markdown",
   "id": "5ba4bb3c",
   "metadata": {},
   "source": [
    "### data analysis"
   ]
  },
  {
   "cell_type": "code",
   "execution_count": 9,
   "id": "aa735b5e",
   "metadata": {},
   "outputs": [],
   "source": [
    "comm_conn = []\n",
    "\n",
    "for col in expectation_world.columns:\n",
    "    if 'commit+consid.' in col:\n",
    "            comm_conn.append(col)\n",
    "\n",
    "# get the considered and committed emissions per year till 2100\n",
    "comm_cons_expect = expectation_world[comm_conn]\n",
    "\n",
    "# add to get the cummulative value for each SSP/RCP\n",
    "comm_cons_expect['Cummulative cons+comm emits till 2100'] = comm_cons_expect.sum(axis = 1)\n",
    "\n",
    "# add the rcp and ssp data back to the df\n",
    "comm_cons_expect[['SSP', 'RCP']] = expectation_world[['SSP', 'RCP']]\n",
    "\n",
    "# export as csv to examine in google sheet\n",
    "# https://docs.google.com/spreadsheets/d/13i20peVmWWZA0PBWackXJBXF5T3npF8BdomHOu-hkkk/edit#gid=1192873491\n",
    "comm_cons_expect.to_csv('data/annual_global_comm_consid_total.csv')"
   ]
  },
  {
   "cell_type": "code",
   "execution_count": 10,
   "id": "63c5d855",
   "metadata": {},
   "outputs": [
    {
     "ename": "NameError",
     "evalue": "name 'electricity_commit' is not defined",
     "output_type": "error",
     "traceback": [
      "\u001b[0;31m---------------------------------------------------------------------------\u001b[0m",
      "\u001b[0;31mNameError\u001b[0m                                 Traceback (most recent call last)",
      "Cell \u001b[0;32mIn [10], line 1\u001b[0m\n\u001b[0;32m----> 1\u001b[0m gt_gem_commit \u001b[38;5;241m=\u001b[39m pd\u001b[38;5;241m.\u001b[39mDataFrame(\u001b[43melectricity_commit\u001b[49m\u001b[38;5;241m.\u001b[39miloc[:,\u001b[38;5;241m1\u001b[39m:]\u001b[38;5;241m.\u001b[39msum(axis \u001b[38;5;241m=\u001b[39m \u001b[38;5;241m0\u001b[39m) \u001b[38;5;241m*\u001b[39m \u001b[38;5;241m.\u001b[39m\u001b[38;5;241m001\u001b[39m)\u001b[38;5;241m.\u001b[39mT\n\u001b[1;32m      3\u001b[0m yr_cols \u001b[38;5;241m=\u001b[39m []\n\u001b[1;32m      4\u001b[0m \u001b[38;5;28;01mfor\u001b[39;00m col \u001b[38;5;129;01min\u001b[39;00m gt_gem_commit\u001b[38;5;241m.\u001b[39mcolumns:\n",
      "\u001b[0;31mNameError\u001b[0m: name 'electricity_commit' is not defined"
     ]
    }
   ],
   "source": [
    "gt_gem_commit = pd.DataFrame(electricity_commit.iloc[:,1:].sum(axis = 0) * .001).T\n",
    "\n",
    "yr_cols = []\n",
    "for col in gt_gem_commit.columns:\n",
    "    if '2025' in col:\n",
    "        yr_cols.append(col)\n",
    "gt_gem_commit[yr_cols]"
   ]
  },
  {
   "cell_type": "code",
   "execution_count": null,
   "id": "be5fbf09",
   "metadata": {},
   "outputs": [],
   "source": [
    "summed_tong = pd.DataFrame(tong_country_sector_CO2.iloc[:,1:].sum(axis = 0))\n",
    "summed_tong.iloc[:7,:].sum()"
   ]
  },
  {
   "cell_type": "markdown",
   "id": "476d7f43",
   "metadata": {},
   "source": [
    "### plotting"
   ]
  },
  {
   "cell_type": "code",
   "execution_count": null,
   "id": "508fede3",
   "metadata": {},
   "outputs": [],
   "source": [
    "# # plot the raw country and region level data\n",
    "plot_data(rgn_data, 'raw', 'Planned, Committed, and Considered Emissions till 2100 ', 'data/plots/rgn_emissions_rcp_ssp_plots/')\n",
    "plot_data(cntry_rgn_data, 'raw', 'Planned, Committed, and Considered Emissions till 2100 ', 'data/plots/cntry_emissions_rcp_ssp_plots/')\n",
    "\n",
    "# plot the data aggregated over the entire world, still raw\n",
    "plot_data(world_totals, 'raw', 'Planned, Committed, and Considered Emissions till 2100 ', 'data/plots/world_ssp_rcp_emissions/')\n",
    "\n",
    "# plot the expectation across countries and regions, respectively\n",
    "plot_data(expectation_rgn, 'raw', 'Total Expectable, Committed, and Considered Emissions till 2100 ', 'data/plots/rgn_exp_plots/')\n",
    "plot_data(expectation_cntry, 'raw', 'Total Expectable, Committed, and Considered Emissions till 2100 ', 'data/plots/cntry_exp_plots/')"
   ]
  }
 ],
 "metadata": {
  "kernelspec": {
   "display_name": "Python 3 (ipykernel)",
   "language": "python",
   "name": "python3"
  },
  "language_info": {
   "codemirror_mode": {
    "name": "ipython",
    "version": 3
   },
   "file_extension": ".py",
   "mimetype": "text/x-python",
   "name": "python",
   "nbconvert_exporter": "python",
   "pygments_lexer": "ipython3",
   "version": "3.9.4"
  }
 },
 "nbformat": 4,
 "nbformat_minor": 5
}
